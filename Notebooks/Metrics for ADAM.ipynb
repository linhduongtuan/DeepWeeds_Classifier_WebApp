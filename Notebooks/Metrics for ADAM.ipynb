{
 "cells": [
  {
   "cell_type": "code",
   "execution_count": 20,
   "metadata": {
    "colab": {},
    "colab_type": "code",
    "id": "EPEBQBTzcZiS"
   },
   "outputs": [],
   "source": [
    "import os\n",
    "import re\n",
    "import PIL\n",
    "import sys\n",
    "import sls\n",
    "import cv2\n",
    "import json\n",
    "import time\n",
    "import glob\n",
    "import math\n",
    "import timm\n",
    "import copy\n",
    "import torch\n",
    "import pickle\n",
    "import geffnet\n",
    "import logging\n",
    "import fnmatch\n",
    "import argparse\n",
    "import itertools\n",
    "import torchvision\n",
    "import numpy as np\n",
    "%matplotlib inline\n",
    "import pandas as pd\n",
    "import seaborn as sns\n",
    "import torch.nn as nn\n",
    "from PIL import Image\n",
    "from glob import glob\n",
    "from pathlib import Path\n",
    "from copy import deepcopy\n",
    "from sklearn import metrics\n",
    "import torch.optim as optim\n",
    "from datetime import datetime\n",
    "import matplotlib.pyplot as plt\n",
    "import torch.nn.functional as F\n",
    "import torch.utils.data as data\n",
    "from torchvision import transforms\n",
    "from torch.autograd import Variable\n",
    "from tqdm import tqdm, tqdm_notebook\n",
    "from torch.optim import lr_scheduler\n",
    "import torch.utils.model_zoo as model_zoo\n",
    "%config InlineBackend.figure_format = 'retina'\n",
    "from efficientnet_pytorch import EfficientNet\n",
    "from collections import OrderedDict, defaultdict\n",
    "from torchvision import transforms, models, datasets\n",
    "from torch.utils.data.sampler import SubsetRandomSampler\n",
    "from sklearn.metrics import confusion_matrix,accuracy_score\n",
    "device = torch.device(\"cuda:0\" if torch.cuda.is_available() else \"cpu\")\n",
    "#device = torch.device(\"cpu\")"
   ]
  },
  {
   "cell_type": "code",
   "execution_count": 21,
   "metadata": {
    "colab": {
     "base_uri": "https://localhost:8080/",
     "height": 68
    },
    "colab_type": "code",
    "id": "CA9wZQTds_Av",
    "outputId": "e34e2986-0c5f-4723-fe0a-60e01320e951"
   },
   "outputs": [
    {
     "name": "stdout",
     "output_type": "stream",
     "text": [
      "{'test_5': 3502}\n",
      "cuda:0\n"
     ]
    },
    {
     "data": {
      "text/plain": [
       "torch.Size([8, 3, 224, 224])"
      ]
     },
     "execution_count": 21,
     "metadata": {},
     "output_type": "execute_result"
    }
   ],
   "source": [
    "data_dir = '/home/linh/Downloads/DeepWeeds'\n",
    "\n",
    "valid_dir = data_dir + \"/test_5\" #'/NCT-CRC-HE-100K-NONORM' \n",
    "\n",
    "# Define your transforms for the training and testing sets\n",
    "data_transforms = {  \n",
    "    'test_5':  transforms.Compose([\n",
    "             #transforms.RandomRotation(30),\n",
    "             transforms.Resize(256),\n",
    "             #transforms.RandomResizedCrop(224),        \n",
    "             transforms.CenterCrop(224),\n",
    "             #transforms.RandomHorizontalFlip(),\n",
    "             transforms.ToTensor(),\n",
    "             transforms.Normalize([0.485, 0.456, 0.406], \n",
    "                             [0.229, 0.224, 0.225])\n",
    "                                ])\n",
    "\n",
    "                    }\n",
    "\n",
    "# Load the datasets with ImageFolder\n",
    "image_datasets = {x: datasets.ImageFolder(os.path.join(data_dir, x),\n",
    "                                          data_transforms[x])\n",
    "                  for x in ['test_5']}\n",
    "\n",
    "# Using the image datasets and the trainforms, define the data_loader\n",
    "# batch_size = 64 for B0, B1, B2, B3; batch_size = 32 for B4; batch_size = 16 for B5\n",
    "# batch_size = 8 for B6, B7\n",
    "batch_size = 8\n",
    "data_loader = {x: torch.utils.data.DataLoader(image_datasets[x], batch_size=batch_size,\n",
    "                                            shuffle=True, num_workers=4)\n",
    "              for x in ['test_5']}\n",
    "dataset_sizes = {x: len(image_datasets[x]) for x in ['test_5']}\n",
    "\n",
    "class_names = image_datasets['test_5'].classes\n",
    "\n",
    "print(dataset_sizes)\n",
    "print(device)\n",
    "\n",
    "\"\"\"# Label mapping\n",
    "with open('/home/linh/Downloads/CRC/cat_to_name_7K.json', 'r') as f:\n",
    "    cat_to_name = json.load(f)\"\"\"\n",
    "\n",
    "'''f = open('/home/linh/Downloads/Derma/classes.txt','r')\n",
    "cat_to_name = f.read()\n",
    "print(cat_to_name)\n",
    "f.close()    \n",
    "'''\n",
    "### we get the class_to_index in the data_Set but what we really need is the cat_to_names  so we will create\n",
    "_ = image_datasets['test_5'].class_to_idx\n",
    "cat_to_name = {_[i]: i for i in list(_.keys())}\n",
    "\n",
    "    \n",
    "# Run this to test the data loader\n",
    "images, labels = next(iter(data_loader['test_5']))\n",
    "images.size()"
   ]
  },
  {
   "cell_type": "code",
   "execution_count": 22,
   "metadata": {},
   "outputs": [
    {
     "data": {
      "text/plain": [
       "['Siam weed',\n",
       " 'Negative',\n",
       " 'Lantana',\n",
       " 'Parkinsonia',\n",
       " 'Parthenium',\n",
       " 'Prickly acacia',\n",
       " 'Chinee apple',\n",
       " 'Snake weed',\n",
       " 'Rubber vine']"
      ]
     },
     "execution_count": 22,
     "metadata": {},
     "output_type": "execute_result"
    }
   ],
   "source": [
    "CLASSES = os.listdir(valid_dir)\n",
    "CLASSES"
   ]
  },
  {
   "cell_type": "code",
   "execution_count": 43,
   "metadata": {},
   "outputs": [
    {
     "name": "stdout",
     "output_type": "stream",
     "text": [
      "=> Warning: Pretrained model URL is empty, using random initialization.\n"
     ]
    },
    {
     "data": {
      "text/plain": [
       "[(0, 'Chinee apple'),\n",
       " (1, 'Lantana'),\n",
       " (2, 'Negative'),\n",
       " (3, 'Parkinsonia'),\n",
       " (4, 'Parthenium'),\n",
       " (5, 'Prickly acacia'),\n",
       " (6, 'Rubber vine'),\n",
       " (7, 'Siam weed'),\n",
       " (8, 'Snake weed')]"
      ]
     },
     "execution_count": 43,
     "metadata": {},
     "output_type": "execute_result"
    }
   ],
   "source": [
    "\n",
    "#model = timm.create_model('tf_efficientnet_b4_ap', pretrained=True)\n",
    "#model = timm.create_model('tf_efficientnet_b4_ns', pretrained=True)\n",
    "model = geffnet.create_model('efficientnet_b4', pretrained=True)\n",
    "\n",
    "# Create classifier\n",
    "for param in model.parameters():\n",
    "    param.requires_grad = True\n",
    "#n_classes = 9\n",
    "#model.classifier = nn.Linear(model.classifier.in_features, n_classes)\n",
    "\n",
    "criterion = nn.CrossEntropyLoss()\n",
    "#optimizer = Nadam(model.parameters(), lr=0.001)\n",
    "optimizer = optim.Adam(model.parameters(), lr=0.001, weight_decay=0.0001)\n",
    "scheduler = optim.lr_scheduler.StepLR(optimizer, step_size=10, gamma=0.1)\n",
    "model.to(device)\n",
    "model.class_to_idx = image_datasets['test_5'].class_to_idx\n",
    "model.idx_to_class = {\n",
    "    idx: class_\n",
    "    for class_, idx in model.class_to_idx.items()\n",
    "}\n",
    "\n",
    "list(model.idx_to_class.items())"
   ]
  },
  {
   "cell_type": "code",
   "execution_count": 24,
   "metadata": {},
   "outputs": [
    {
     "data": {
      "text/plain": [
       "{0: 'Chinee apple',\n",
       " 1: 'Lantana',\n",
       " 2: 'Negative',\n",
       " 3: 'Parkinsonia',\n",
       " 4: 'Parthenium',\n",
       " 5: 'Prickly acacia',\n",
       " 6: 'Rubber vine',\n",
       " 7: 'Siam weed',\n",
       " 8: 'Snake weed'}"
      ]
     },
     "execution_count": 24,
     "metadata": {},
     "output_type": "execute_result"
    }
   ],
   "source": [
    "idx_to_class ={val: key for key, val in model.class_to_idx.items()}\n",
    "idx_to_class"
   ]
  },
  {
   "cell_type": "code",
   "execution_count": 25,
   "metadata": {},
   "outputs": [
    {
     "data": {
      "text/plain": [
       "[('Chinee apple', 0),\n",
       " ('Lantana', 1),\n",
       " ('Negative', 2),\n",
       " ('Parkinsonia', 3),\n",
       " ('Parthenium', 4),\n",
       " ('Prickly acacia', 5),\n",
       " ('Rubber vine', 6),\n",
       " ('Siam weed', 7),\n",
       " ('Snake weed', 8)]"
      ]
     },
     "execution_count": 25,
     "metadata": {},
     "output_type": "execute_result"
    }
   ],
   "source": [
    "list(model.class_to_idx.items())"
   ]
  },
  {
   "cell_type": "code",
   "execution_count": 26,
   "metadata": {},
   "outputs": [
    {
     "data": {
      "text/plain": [
       "dict_items([('Chinee apple', 0), ('Lantana', 1), ('Negative', 2), ('Parkinsonia', 3), ('Parthenium', 4), ('Prickly acacia', 5), ('Rubber vine', 6), ('Siam weed', 7), ('Snake weed', 8)])"
      ]
     },
     "execution_count": 26,
     "metadata": {},
     "output_type": "execute_result"
    }
   ],
   "source": [
    "model.class_to_idx.items()"
   ]
  },
  {
   "cell_type": "code",
   "execution_count": 44,
   "metadata": {},
   "outputs": [
    {
     "name": "stdout",
     "output_type": "stream",
     "text": [
      "checkpoint loaded\n",
      "prediction time for complete in 16107 milisecond\n",
      "              precision    recall  f1-score   support\n",
      "\n",
      "           0   0.898678  0.906667  0.902655       225\n",
      "           1   0.870833  0.981221  0.922737       213\n",
      "           2   0.962564  0.931906  0.946987      1821\n",
      "           3   0.990291  0.990291  0.990291       206\n",
      "           4   0.979592  0.941176  0.960000       204\n",
      "           5   0.982857  0.807512  0.886598       213\n",
      "           6   0.813765  0.995050  0.895323       202\n",
      "           7   0.958333  0.962791  0.960557       215\n",
      "           8   0.814655  0.931034  0.868966       203\n",
      "\n",
      "    accuracy                       0.935180      3502\n",
      "   macro avg   0.919063  0.938627  0.926013      3502\n",
      "weighted avg   0.939321  0.935180  0.935626      3502\n",
      "\n"
     ]
    },
    {
     "data": {
      "image/png": "[encoded data removed]",
      "text/plain": [
       "<Figure size 432x288 with 2 Axes>"
      ]
     },
     "metadata": {
      "image/png": {
       "height": 248,
       "width": 358
      },
      "needs_background": "light"
     },
     "output_type": "display_data"
    }
   ],
   "source": [
    "CHECK_POINT_PATH = '/home/linh/Downloads/DeepWeeds/weights/EfficientNet_B4_AP_ADAM.pth'\n",
    "#CHECK_POINT_PATH = '/home/linh/Downloads/DeepWeeds/weights/EfficientNet_B4_NS_ADAM.pth'\n",
    "#CHECK_POINT_PATH = '/home/linh/Downloads/DeepWeeds/weights/EfficientNet_B4_AP_ADAM.pth'\n",
    "try:\n",
    "    checkpoint = torch.load(CHECK_POINT_PATH)\n",
    "    print(\"checkpoint loaded\")\n",
    "except:\n",
    "    checkpoint = None\n",
    "    print(\"checkpoint not found\")\n",
    "\n",
    "def load_model(path):                                \n",
    "    model.load_state_dict(checkpoint['model_state_dict'])\n",
    "    best_model_wts = copy.deepcopy(model.state_dict())\n",
    "    optimizer.load_state_dict(checkpoint['optimizer_state_dict'])\n",
    "    scheduler.load_state_dict(checkpoint['scheduler_state_dict'])\n",
    "    best_loss = checkpoint['best_val_loss']\n",
    "    best_acc = checkpoint['best_val_accuracy']\n",
    "load_model(CHECK_POINT_PATH) \n",
    "#calculate time for prediction\n",
    "#set start time to predict\n",
    "since = round(time.monotonic() * 1000)\n",
    "model.eval()\n",
    "y_test = []\n",
    "y_pred = []\n",
    "\n",
    "for i, (images, labels) in enumerate(data_loader['test_5']):\n",
    "    images = images.to(device)\n",
    "    labels = labels.to(device)\n",
    "    outputs = model(images)\n",
    "    _, predictions = outputs.max(1)\n",
    "    \n",
    "    y_test.append(labels.data.cpu().numpy())\n",
    "    y_pred.append(predictions.data.cpu().numpy())\n",
    "'''\n",
    "for images, labels in data_loader['test_0']:\n",
    "    images = Variable(images.cuda())\n",
    "    labels = Variable(labels.cuda())\n",
    "    outputs = model(images)\n",
    "    _, predictions = outputs.max(1)\n",
    "    \n",
    "    y_test.append(labels.data.cpu().numpy())\n",
    "    y_pred.append(predictions.data.cpu().numpy())'''\n",
    "\n",
    "#set the end time to predict\n",
    "time_elapsed = round(time.monotonic() * 1000) - since   \n",
    "print('prediction time for complete in {:.0f} milisecond'.format(time_elapsed))\n",
    "#print('Prediction time to complete in {:.0f}m {:.0f}s'.format(time_elapsed // 60, time_elapsed % 60))\n",
    "\n",
    "#concat predicted results to be dataframe\n",
    "y_test = np.concatenate(y_test)\n",
    "y_pred = np.concatenate(y_pred)\n",
    "\n",
    "#pd.DataFrame({'true_label':y_test,'predicted_label':y_pred}).to_csv('/home/linh/Downloads/DeepWeeds/results/EfficientNet_Lite_4_ADAM_WWhole_dataset.csv',index=False)\n",
    "#pd.DataFrame({'true_label':y_test,'predicted_label':y_pred}).to_csv('/home/linh/Downloads/DeepWeeds/results/EfficientNet_Lite_4_ADAM_test_5.csv',index=False)\n",
    "\n",
    "sns.heatmap(confusion_matrix(y_test, y_pred))\n",
    "# set accuracy score to control processes\n",
    "accuracy_score(y_test, y_pred)\n",
    "\n",
    "# Generate a classification report\n",
    "from sklearn.metrics import classification_report\n",
    "\n",
    "report = classification_report(y_test, y_pred, digits=6)\n",
    "print(report)"
   ]
  }
 ],
 "metadata": {
  "accelerator": "GPU",
  "colab": {
   "collapsed_sections": [],
   "name": "Metrics_for_EfficientNets.ipynb",
   "provenance": []
  },
  "kernelspec": {
   "display_name": "Python 3",
   "language": "python",
   "name": "python3"
  },
  "language_info": {
   "codemirror_mode": {
    "name": "ipython",
    "version": 3
   },
   "file_extension": ".py",
   "mimetype": "text/x-python",
   "name": "python",
   "nbconvert_exporter": "python",
   "pygments_lexer": "ipython3",
   "version": "3.6.9"
  }
 },
 "nbformat": 4,
 "nbformat_minor": 4
}
