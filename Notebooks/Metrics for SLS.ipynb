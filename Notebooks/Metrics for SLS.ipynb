{
 "cells": [
  {
   "cell_type": "code",
   "execution_count": 1,
   "metadata": {},
   "outputs": [
    {
     "name": "stdout",
     "output_type": "stream",
     "text": [
      "\n"
     ]
    }
   ],
   "source": [
    "import os\n",
    "import re\n",
    "import PIL\n",
    "import sys\n",
    "import sls\n",
    "import cv2\n",
    "import json\n",
    "import time\n",
    "import glob\n",
    "import math\n",
    "import timm\n",
    "import copy\n",
    "import torch\n",
    "import pickle\n",
    "import geffnet\n",
    "import logging\n",
    "import fnmatch\n",
    "import argparse\n",
    "active_imports()\n",
    "%matplotlib inline\n",
    "import torch.nn as nn\n",
    "from PIL import Image\n",
    "from glob import glob\n",
    "from pyforest import *\n",
    "from copy import deepcopy\n",
    "from sklearn import metrics\n",
    "import torch.optim as optim\n",
    "from datetime import datetime\n",
    "import matplotlib.pyplot as plt\n",
    "import torch.nn.functional as F\n",
    "import torch.utils.data as data\n",
    "from torchvision import transforms\n",
    "from torch.autograd import Variable\n",
    "from tqdm import tqdm, tqdm_notebook\n",
    "from torch.optim import lr_scheduler\n",
    "import torch.utils.model_zoo as model_zoo\n",
    "%config InlineBackend.figure_format = 'retina'\n",
    "from efficientnet_pytorch import EfficientNet\n",
    "from collections import OrderedDict, defaultdict\n",
    "from torchvision import transforms, models, datasets\n",
    "from torch.utils.data.sampler import SubsetRandomSampler\n",
    "from sklearn.metrics import confusion_matrix,accuracy_score\n",
    "device = torch.device(\"cuda:0\" if torch.cuda.is_available() else \"cpu\")\n",
    "#device = torch.device(\"cpu\")"
   ]
  },
  {
   "cell_type": "code",
   "execution_count": 2,
   "metadata": {
    "colab": {
     "base_uri": "https://localhost:8080/",
     "height": 68
    },
    "colab_type": "code",
    "id": "CA9wZQTds_Av",
    "outputId": "e34e2986-0c5f-4723-fe0a-60e01320e951"
   },
   "outputs": [
    {
     "data": {
      "application/javascript": [
       "\n",
       "        if (window._pyforest_update_imports_cell) { window._pyforest_update_imports_cell('import os'); }\n",
       "    "
      ],
      "text/plain": [
       "<IPython.core.display.Javascript object>"
      ]
     },
     "metadata": {},
     "output_type": "display_data"
    },
    {
     "name": "stdout",
     "output_type": "stream",
     "text": [
      "{'test_0': 17509}\n",
      "cuda:0\n"
     ]
    },
    {
     "data": {
      "text/plain": [
       "torch.Size([8, 3, 224, 224])"
      ]
     },
     "execution_count": 2,
     "metadata": {},
     "output_type": "execute_result"
    }
   ],
   "source": [
    "data_dir = '/home/linh/Downloads/DeepWeeds'\n",
    "\n",
    "valid_dir = data_dir + \"/test_0\" #'/NCT-CRC-HE-100K-NONORM' \n",
    "\n",
    "# Define your transforms for the training and testing sets\n",
    "data_transforms = {  \n",
    "    'test_0':  transforms.Compose([\n",
    "             #transforms.RandomRotation(30),\n",
    "             transforms.Resize(256),\n",
    "             #transforms.RandomResizedCrop(224),        \n",
    "             transforms.CenterCrop(224),\n",
    "             #transforms.RandomHorizontalFlip(),\n",
    "             transforms.ToTensor(),\n",
    "             transforms.Normalize([0.485, 0.456, 0.406], \n",
    "                             [0.229, 0.224, 0.225])\n",
    "                                ])\n",
    "\n",
    "                    }\n",
    "\n",
    "# Load the datasets with ImageFolder\n",
    "image_datasets = {x: datasets.ImageFolder(os.path.join(data_dir, x),\n",
    "                                          data_transforms[x])\n",
    "                  for x in ['test_0']}\n",
    "\n",
    "# Using the image datasets and the trainforms, define the data_loader\n",
    "# batch_size = 64 for B0, B1, B2, B3; batch_size = 32 for B4; batch_size = 16 for B5\n",
    "# batch_size = 8 for B6, B7\n",
    "batch_size = 8\n",
    "data_loader = {x: torch.utils.data.DataLoader(image_datasets[x], batch_size=batch_size,\n",
    "                                             shuffle=True, num_workers=4)\n",
    "              for x in ['test_0']}\n",
    "dataset_sizes = {x: len(image_datasets[x]) for x in ['test_0']}\n",
    "\n",
    "class_names = image_datasets['test_0'].classes\n",
    "\n",
    "print(dataset_sizes)\n",
    "print(device)\n",
    "\n",
    "\"\"\"# Label mapping\n",
    "with open('/home/linh/Downloads/CRC/cat_to_name_7K.json', 'r') as f:\n",
    "    cat_to_name = json.load(f)\"\"\"\n",
    "\n",
    "'''f = open('/home/linh/Downloads/Derma/classes.txt','r')\n",
    "cat_to_name = f.read()\n",
    "print(cat_to_name)\n",
    "f.close()    \n",
    "'''\n",
    "### we get the class_to_index in the data_Set but what we really need is the cat_to_names  so we will create\n",
    "_ = image_datasets['test_0'].class_to_idx\n",
    "cat_to_name = {_[i]: i for i in list(_.keys())}\n",
    "\n",
    "    \n",
    "# Run this to test the data loader\n",
    "images, labels = next(iter(data_loader['test_0']))\n",
    "images.size()"
   ]
  },
  {
   "cell_type": "code",
   "execution_count": 10,
   "metadata": {},
   "outputs": [
    {
     "name": "stdout",
     "output_type": "stream",
     "text": [
      "checkpoint loaded\n",
      "prediction time for complete in 111086 milisecond\n"
     ]
    },
    {
     "data": {
      "application/javascript": [
       "\n",
       "        if (window._pyforest_update_imports_cell) { window._pyforest_update_imports_cell('import os\\nimport seaborn as sns\\nimport numpy as np'); }\n",
       "    "
      ],
      "text/plain": [
       "<IPython.core.display.Javascript object>"
      ]
     },
     "metadata": {},
     "output_type": "display_data"
    },
    {
     "name": "stdout",
     "output_type": "stream",
     "text": [
      "              precision    recall  f1-score   support\n",
      "\n",
      "           0   0.975546  0.992889  0.984141      1125\n",
      "           1   0.982226  0.986842  0.984529      1064\n",
      "           2   0.996648  0.979464  0.987981      9106\n",
      "           3   0.993256  1.000000  0.996617      1031\n",
      "           4   0.993177  0.997065  0.995117      1022\n",
      "           5   0.967978  0.996234  0.981903      1062\n",
      "           6   0.952562  0.995045  0.973340      1009\n",
      "           7   0.970109  0.997207  0.983471      1074\n",
      "           8   0.978661  0.993110  0.985833      1016\n",
      "\n",
      "    accuracy                       0.986807     17509\n",
      "   macro avg   0.978907  0.993095  0.985881     17509\n",
      "weighted avg   0.987062  0.986807  0.986836     17509\n",
      "\n"
     ]
    },
    {
     "data": {
      "image/png": "[encoded data removed]",
      "text/plain": [
       "<Figure size 432x288 with 2 Axes>"
      ]
     },
     "metadata": {
      "image/png": {
       "height": 248,
       "width": 359
      },
      "needs_background": "light"
     },
     "output_type": "display_data"
    }
   ],
   "source": [
    "\n",
    "#model = EfficientNet.from_pretrained('efficientnet-b3')\n",
    "model = timm.create_model('tf_efficientnet_b4_ap', pretrained=True)\n",
    "#model = timm.create_model('tf_efficientnet_b4_ns', pretrained=True)\n",
    "#model = create_model('tf_efficientnet_lite4', pretrained=True)\n",
    "# Create classifier\n",
    "for param in model.parameters():\n",
    "    param.requires_grad = True\n",
    "#n_classes = 9\n",
    "#model.classifier = nn.Linear(model.classifier.in_features, n_classes)\n",
    "criterion = nn.CrossEntropyLoss()\n",
    "#optimizer = Nadam(model.parameters(), lr=0.001)\n",
    "#optimizer = optim.Adam(model.parameters(), lr=0.001, weight_decay=0.0001)\n",
    "optimizer = sls.Sls(model.parameters())\n",
    "#scheduler = optim.lr_scheduler.StepLR(optimizer, step_size=10, gamma=0.1)\n",
    "\n",
    "model.to(device)\n",
    "\n",
    "#CHECK_POINT_PATH = '/home/linh/Downloads/DeepWeeds/weights/EfficientNet_Lite4_SLS.pth'\n",
    "#CHECK_POINT_PATH = '/home/linh/Downloads/DeepWeeds/weights/EfficientNet_B4_NS_SLS.pth'\n",
    "CHECK_POINT_PATH = '/home/linh/Downloads/DeepWeeds/weights/EfficientNet_B4_AP_SLS.pth'\n",
    "try:\n",
    "    checkpoint = torch.load(CHECK_POINT_PATH)\n",
    "    print(\"checkpoint loaded\")\n",
    "except:\n",
    "    checkpoint = None\n",
    "    print(\"checkpoint not found\")\n",
    "\n",
    "def load_model(path):                                \n",
    "    model.load_state_dict(checkpoint['model_state_dict'])\n",
    "    best_model_wts = copy.deepcopy(model.state_dict())\n",
    "    optimizer.load_state_dict(checkpoint['optimizer_state_dict'])\n",
    "   # scheduler.load_state_dict(checkpoint['scheduler_state_dict'])\n",
    "    best_loss = checkpoint['best_val_loss']\n",
    "    best_acc = checkpoint['best_val_accuracy']\n",
    "load_model(CHECK_POINT_PATH)  \n",
    "#calculate time for prediction\n",
    "#set start time to predict\n",
    "since = round(time.monotonic() * 1000)\n",
    "model.eval()\n",
    "y_test = []\n",
    "y_pred = []\n",
    "\n",
    "for i, (images, labels) in enumerate(data_loader['test_0']):\n",
    "    images = images.to(device)\n",
    "    labels = labels.to(device)\n",
    "    outputs = model(images)\n",
    "    _, predictions = outputs.max(1)\n",
    "    \n",
    "    y_test.append(labels.data.cpu().numpy())\n",
    "    y_pred.append(predictions.data.cpu().numpy())\n",
    "'''\n",
    "for images, labels in data_loader['test_0']:\n",
    "    images = Variable(images.cuda())\n",
    "    labels = Variable(labels.cuda())\n",
    "    outputs = model(images)\n",
    "    _, predictions = outputs.max(1)\n",
    "    \n",
    "    y_test.append(labels.data.cpu().numpy())\n",
    "    y_pred.append(predictions.data.cpu().numpy())'''\n",
    "\n",
    "#set the end time to predict\n",
    "#set the end time to predict\n",
    "time_elapsed = round(time.monotonic() * 1000) - since   \n",
    "print('prediction time for complete in {:.0f} milisecond'.format(time_elapsed))\n",
    "#print('Prediction time to complete in {:.0f}m {:.0f}s'.format(time_elapsed // 60, time_elapsed % 60))\n",
    "\n",
    "#concat predicted results to be dataframe\n",
    "y_test = np.concatenate(y_test)\n",
    "y_pred = np.concatenate(y_pred)\n",
    "\n",
    "#pd.DataFrame({'true_label':y_test,'predicted_label':y_pred}).to_csv('/home/linh/Downloads/DeepWeeds/results/EfficientNet_Lite_B4_SLS_Whole_data.csv',index=False)\n",
    "\n",
    "#pd.DataFrame({'true_label':y_test,'predicted_label':y_pred}).to_csv('/home/linh/Downloads/DeepWeeds/results/EfficientNet_Lite_B4_SLS_test_1.csv',index=False)\n",
    "\n",
    "sns.heatmap(confusion_matrix(y_test, y_pred))\n",
    "# set accuracy score to control processes\n",
    "accuracy_score(y_test, y_pred)\n",
    "\n",
    "# Generate a classification report\n",
    "from sklearn.metrics import classification_report\n",
    "\n",
    "\n",
    "report = classification_report(y_test, y_pred, digits=6)\n",
    "print(report)\n"
   ]
  },
  {
   "cell_type": "code",
   "execution_count": 4,
   "metadata": {},
   "outputs": [
    {
     "data": {
      "text/plain": [
       "\"model.class_to_idx = image_datasets['test_1'].class_to_idx\\nmodel.idx_to_class = {\\n    idx: class_\\n    for class_, idx in model.class_to_idx.items()\\n}\\nlist(model.class_to_idx.items())\\nlist(model.idx_to_class.items())\""
      ]
     },
     "execution_count": 4,
     "metadata": {},
     "output_type": "execute_result"
    }
   ],
   "source": [
    "'''model.class_to_idx = image_datasets['test_1'].class_to_idx\n",
    "model.idx_to_class = {\n",
    "    idx: class_\n",
    "    for class_, idx in model.class_to_idx.items()\n",
    "}\n",
    "list(model.class_to_idx.items())\n",
    "list(model.idx_to_class.items())'''"
   ]
  }
 ],
 "metadata": {
  "accelerator": "GPU",
  "colab": {
   "collapsed_sections": [],
   "name": "Metrics_for_EfficientNets.ipynb",
   "provenance": []
  },
  "kernelspec": {
   "display_name": "Python 3",
   "language": "python",
   "name": "python3"
  },
  "language_info": {
   "codemirror_mode": {
    "name": "ipython",
    "version": 3
   },
   "file_extension": ".py",
   "mimetype": "text/x-python",
   "name": "python",
   "nbconvert_exporter": "python",
   "pygments_lexer": "ipython3",
   "version": "3.6.9"
  }
 },
 "nbformat": 4,
 "nbformat_minor": 4
}
